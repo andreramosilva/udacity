{
 "cells": [
  {
   "cell_type": "markdown",
   "metadata": {
    "graffitiCellId": "id_7nj9dyd"
   },
   "source": [
    "# Case Specific Sorting of Strings\n",
    "\n",
    "## Problem statement\n",
    "Given a string consisting of uppercase and lowercase ASCII characters, write a function, `case_sort`, that sorts uppercase and lowercase letters separately, such that if the $i$th place in the original string had an uppercase character then it should not have a lowercase character after being sorted and vice versa.\n",
    "\n",
    "For example:  \n",
    "**Input:** fedRTSersUXJ  \n",
    "**Output:** deeJRSfrsTUX"
   ]
  },
  {
   "cell_type": "code",
   "execution_count": 67,
   "metadata": {
    "graffitiCellId": "id_jmqckie"
   },
   "outputs": [],
   "source": [
    "def case_sort(string):\n",
    "    \"\"\"\n",
    "    Here are some pointers on how the function should work:\n",
    "    1. Sort the string\n",
    "    2. Create an empty output list\n",
    "    3. Iterate over original string\n",
    "        if the character is lower-case:\n",
    "            pick lower-case character from sorted string to place in output list\n",
    "        else:\n",
    "            pick upper-case character from sorted string to place in output list\n",
    "    \n",
    "    Note: You can use Python's inbuilt ord() function to find the ASCII value of a character\n",
    "    \"\"\"\n",
    "    result =[]\n",
    "    for item in string:\n",
    "        result.append(ord(item))\n",
    "        \n",
    "    sort = mergesort(result)\n",
    "    print(sort)\n",
    "    chars_sorted=[]\n",
    "    for char in sort:\n",
    "        chars_sorted.append(chr(char))\n",
    "    #print(chars_sorted)    \n",
    "    \n",
    "    final=[None for x in range(len(string))]\n",
    "    uper=[]\n",
    "    lower=[]\n",
    "    for x in chars_sorted:\n",
    "        if x.islower():\n",
    "            lower.append(x)\n",
    "        else:\n",
    "            uper.append(x)\n",
    "    \n",
    "    lower_i=0\n",
    "    upper_i=0\n",
    "    \n",
    "    for index in range(len(string)):\n",
    "        \n",
    "        if string[index].islower():\n",
    "            #print(\"lower\")\n",
    "            #print(lower[lower_i])\n",
    "            final[index]=lower[lower_i]\n",
    "            lower_i+=1\n",
    "\n",
    "        else:\n",
    "            #print(\"upper\")\n",
    "            #print(uper[upper_i])\n",
    "            final[index]=uper[upper_i]\n",
    "            upper_i+=1\n",
    "    print(final)\n",
    "    final_str=''\n",
    "    for item in final:\n",
    "        final_str+=item\n",
    "    return final_str   \n",
    "                \n",
    "\n",
    "    \n",
    "          \n",
    "#divide in 2 steps SPLIT THEN MERGE    \n",
    "    \n",
    "    \n",
    "def mergesort(items):\n",
    "\n",
    "    if len(items) <= 1:\n",
    "        return items\n",
    "    \n",
    "    mid = len(items) // 2\n",
    "    left = items[:mid]\n",
    "    right = items[mid:]\n",
    "    \n",
    "    left = mergesort(left)\n",
    "    right = mergesort(right)\n",
    "    \n",
    "    return merge(left, right)\n",
    "    \n",
    "def merge(left, right):\n",
    "    reverse = 0\n",
    "    merged = []\n",
    "    left_index = 0\n",
    "    right_index = 0\n",
    "    \n",
    "    while left_index < len(left) and right_index < len(right):\n",
    "        if left[left_index] > right[right_index]:\n",
    "            merged.append(right[right_index])\n",
    "            right_index += 1\n",
    "            reverse+=1\n",
    "        else:\n",
    "            merged.append(left[left_index])\n",
    "            left_index += 1\n",
    "\n",
    "    merged += left[left_index:]\n",
    "    merged += right[right_index:]\n",
    "        \n",
    "    return merged"
   ]
  },
  {
   "cell_type": "code",
   "execution_count": null,
   "metadata": {
    "graffitiCellId": "id_asn3e3z"
   },
   "outputs": [],
   "source": []
  },
  {
   "cell_type": "code",
   "execution_count": 68,
   "metadata": {
    "graffitiCellId": "id_svi9i7s"
   },
   "outputs": [
    {
     "name": "stdout",
     "output_type": "stream",
     "text": [
      "[74, 82, 83, 84, 85, 88, 100, 101, 101, 102, 114, 115]\n",
      "['d', 'e', 'e', 'J', 'R', 'S', 'f', 'r', 's', 'T', 'U', 'X']\n"
     ]
    },
    {
     "data": {
      "text/plain": [
       "'deeJRSfrsTUX'"
      ]
     },
     "execution_count": 68,
     "metadata": {},
     "output_type": "execute_result"
    }
   ],
   "source": [
    "test_string = 'fedRTSersUXJ'\n",
    "case_sort(test_string)"
   ]
  },
  {
   "cell_type": "markdown",
   "metadata": {
    "graffitiCellId": "id_mw53bf1"
   },
   "source": [
    "<span class=\"graffiti-highlight graffiti-id_mw53bf1-id_fsblbn3\"><i></i><button>Show Solution</button></span>"
   ]
  },
  {
   "cell_type": "code",
   "execution_count": 69,
   "metadata": {
    "graffitiCellId": "id_z40d3cc"
   },
   "outputs": [],
   "source": [
    "def test_function(test_case):\n",
    "    test_string = test_case[0]\n",
    "    solution = test_case[1]\n",
    "    \n",
    "    if case_sort(test_string) == solution:\n",
    "        print(\"Pass\")\n",
    "    else:\n",
    "        print(\"False\")"
   ]
  },
  {
   "cell_type": "code",
   "execution_count": 70,
   "metadata": {
    "graffitiCellId": "id_gxkbvwz"
   },
   "outputs": [
    {
     "name": "stdout",
     "output_type": "stream",
     "text": [
      "[74, 82, 83, 84, 85, 88, 100, 101, 101, 102, 114, 115]\n",
      "['d', 'e', 'e', 'J', 'R', 'S', 'f', 'r', 's', 'T', 'U', 'X']\n",
      "Pass\n"
     ]
    }
   ],
   "source": [
    "test_string = 'fedRTSersUXJ'\n",
    "solution = \"deeJRSfrsTUX\"\n",
    "test_case = [test_string, solution]\n",
    "test_function(test_case)"
   ]
  },
  {
   "cell_type": "code",
   "execution_count": 71,
   "metadata": {
    "graffitiCellId": "id_uduu26h"
   },
   "outputs": [
    {
     "name": "stdout",
     "output_type": "stream",
     "text": [
      "[73, 82, 83, 84, 85, 88, 100, 101, 101, 102, 114, 115]\n",
      "['d', 'e', 'e', 'I', 'R', 'S', 'f', 'r', 's', 'T', 'U', 'X']\n",
      "Pass\n"
     ]
    }
   ],
   "source": [
    "test_string = \"defRTSersUXI\"\n",
    "solution = \"deeIRSfrsTUX\"\n",
    "test_case = [test_string, solution]\n",
    "test_function(test_case)"
   ]
  },
  {
   "cell_type": "code",
   "execution_count": null,
   "metadata": {
    "graffitiCellId": "id_anto49h"
   },
   "outputs": [],
   "source": []
  }
 ],
 "metadata": {
  "graffiti": {
   "firstAuthorId": "dev",
   "id": "id_9ub8eru",
   "language": "EN"
  },
  "kernelspec": {
   "display_name": "Python 3",
   "language": "python",
   "name": "python3"
  },
  "language_info": {
   "codemirror_mode": {
    "name": "ipython",
    "version": 3
   },
   "file_extension": ".py",
   "mimetype": "text/x-python",
   "name": "python",
   "nbconvert_exporter": "python",
   "pygments_lexer": "ipython3",
   "version": "3.6.3"
  }
 },
 "nbformat": 4,
 "nbformat_minor": 2
}
