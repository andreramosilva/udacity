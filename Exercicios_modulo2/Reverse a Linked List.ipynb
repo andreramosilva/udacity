{
 "cells": [
  {
   "cell_type": "markdown",
   "metadata": {
    "graffitiCellId": "id_cead7md"
   },
   "source": [
    "# Reversing a linked list exercise\n",
    "\n",
    "Given a singly linked list, return another linked list that is the reverse of the first."
   ]
  },
  {
   "cell_type": "code",
   "execution_count": 5,
   "metadata": {
    "graffitiCellId": "id_hitzgz4"
   },
   "outputs": [],
   "source": [
    "# Helper Code\n",
    "\n",
    "class Node:\n",
    "    def __init__(self, value):\n",
    "        self.value = value\n",
    "        self.next = None\n",
    "\n",
    "class LinkedList:\n",
    "    def __init__(self):\n",
    "        self.head = None\n",
    "        \n",
    "    def append(self, value):\n",
    "        if self.head is None:\n",
    "            self.head = Node(value)\n",
    "            return\n",
    "        \n",
    "        node = self.head\n",
    "        while node.next:\n",
    "            node = node.next\n",
    "\n",
    "        node.next = Node(value)\n",
    "        \n",
    "    def __iter__(self):\n",
    "        node = self.head\n",
    "        while node:\n",
    "            yield node.value\n",
    "            node = node.next\n",
    "            \n",
    "    def __repr__(self):\n",
    "        return str([v for v in self])"
   ]
  },
  {
   "cell_type": "markdown",
   "metadata": {
    "graffitiCellId": "id_uhfa8px"
   },
   "source": [
    "### Write the function definition here"
   ]
  },
  {
   "cell_type": "code",
   "execution_count": 12,
   "metadata": {
    "graffitiCellId": "id_lohit3u"
   },
   "outputs": [],
   "source": [
    "def reverse(linked_list):\n",
    "    \"\"\"\n",
    "    Reverse the inputted linked list\n",
    "\n",
    "    Args:\n",
    "       linked_list(obj): Linked List to be reversed\n",
    "    Returns:\n",
    "       obj: Reveresed Linked List\n",
    "    \"\"\"\n",
    "    \n",
    "    # TODO: Write your function to reverse linked lists here\n",
    "    current_node =  linked_list.head\n",
    "    new_linked = LinkedList()\n",
    "    aux_list = []\n",
    "    while current_node != None:\n",
    "        print(current_node.value)\n",
    "        aux_list.append(current_node.value)\n",
    "        current_node = current_node.next\n",
    "\n",
    "    reversed_list = aux_list[::-1]\n",
    "\n",
    "\n",
    "    \n",
    "    current_node= None\n",
    "    for item in reversed_list:\n",
    "        if new_linked.head != None:\n",
    "            current_node.next = Node(item)\n",
    "            current_node = current_node.next\n",
    "        else:\n",
    "            new_linked.head = Node(item)\n",
    "            current_node = new_linked.head  \n",
    "\n",
    "    \n",
    "    return new_linked"
   ]
  },
  {
   "cell_type": "code",
   "execution_count": 6,
   "metadata": {
    "graffitiCellId": "id_lji9fjf"
   },
   "outputs": [
    {
     "name": "stdout",
     "output_type": "stream",
     "text": [
      "None\n"
     ]
    }
   ],
   "source": [
    "linked = LinkedList()\n",
    "print(linked.head)\n",
    "linked.append(1)\n",
    "linked.append(2)\n",
    "linked.append(3)\n",
    "linked.append(4)"
   ]
  },
  {
   "cell_type": "code",
   "execution_count": 8,
   "metadata": {
    "graffitiCellId": "id_v21ugcu"
   },
   "outputs": [
    {
     "name": "stdout",
     "output_type": "stream",
     "text": [
      "1\n",
      "2\n",
      "3\n",
      "4\n",
      "1\n",
      "2\n",
      "3\n",
      "4\n",
      "[4, 3, 2, 1]\n"
     ]
    }
   ],
   "source": [
    "print(linked.head.value)\n",
    "print(linked.head.next.value)\n",
    "print(linked.head.next.next.value)\n",
    "print(linked.head.next.next.next.value)\n",
    "current_node =  linked.head\n",
    "new_linked = LinkedList()\n",
    "aux_list = []\n",
    "while current_node != None:\n",
    "    print(current_node.value)\n",
    "    aux_list.append(current_node.value)\n",
    "    current_node = current_node.next\n",
    "\n",
    "reversed_list = aux_list[::-1]\n",
    "\n",
    "\n",
    "    \n",
    "current_node= None\n",
    "for item in reversed_list:\n",
    "    if new_linked.head != None:\n",
    "        current_node.next = Node(item)\n",
    "        current_node = current_node.next\n",
    "    else:\n",
    "        new_linked.head = Node(item)\n",
    "        current_node = new_linked.head    \n",
    "print(aux_list[::-1])    "
   ]
  },
  {
   "cell_type": "code",
   "execution_count": 11,
   "metadata": {
    "graffitiCellId": "id_cpzba2u"
   },
   "outputs": [
    {
     "name": "stdout",
     "output_type": "stream",
     "text": [
      "4\n",
      "3\n"
     ]
    }
   ],
   "source": [
    "print(new_linked.head.value)\n",
    "print(new_linked.head.next.value)"
   ]
  },
  {
   "cell_type": "markdown",
   "metadata": {
    "graffitiCellId": "id_imzm0sv"
   },
   "source": [
    "### Let's test your function"
   ]
  },
  {
   "cell_type": "code",
   "execution_count": 13,
   "metadata": {
    "graffitiCellId": "id_xm503ob"
   },
   "outputs": [
    {
     "name": "stdout",
     "output_type": "stream",
     "text": [
      "4\n",
      "2\n",
      "5\n",
      "1\n",
      "-3\n",
      "0\n",
      "0\n",
      "-3\n",
      "1\n",
      "5\n",
      "2\n",
      "4\n",
      "Pass\n"
     ]
    }
   ],
   "source": [
    "llist = LinkedList()\n",
    "for value in [4,2,5,1,-3,0]:\n",
    "    llist.append(value)\n",
    "\n",
    "flipped = reverse(llist)\n",
    "is_correct = list(flipped) == list([0,-3,1,5,2,4]) and list(llist) == list(reverse(flipped))\n",
    "print(\"Pass\" if is_correct else \"Fail\")"
   ]
  },
  {
   "cell_type": "markdown",
   "metadata": {
    "graffitiCellId": "id_0gw081c"
   },
   "source": [
    "<span class=\"graffiti-highlight graffiti-id_0gw081c-id_dmb7r0h\"><i></i><button>Show Solution</button></span>"
   ]
  },
  {
   "cell_type": "code",
   "execution_count": null,
   "metadata": {
    "graffitiCellId": "id_r6i1ug2"
   },
   "outputs": [],
   "source": []
  }
 ],
 "metadata": {
  "graffiti": {
   "firstAuthorId": "10694620118",
   "id": "id_dvlxolz",
   "language": "EN"
  },
  "kernelspec": {
   "display_name": "Python 3",
   "language": "python",
   "name": "python3"
  },
  "language_info": {
   "codemirror_mode": {
    "name": "ipython",
    "version": 3
   },
   "file_extension": ".py",
   "mimetype": "text/x-python",
   "name": "python",
   "nbconvert_exporter": "python",
   "pygments_lexer": "ipython3",
   "version": "3.6.3"
  }
 },
 "nbformat": 4,
 "nbformat_minor": 2
}
